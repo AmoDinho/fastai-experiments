{
  "cells": [
    {
      "metadata": {
        "_uuid": "8f2839f25d086af736a60e9eeb907d3b93b6e0e5",
        "_cell_guid": "b1076dfc-b9ad-4769-8c92-a6c4dae69d19",
        "trusted": true,
        "collapsed": true
      },
      "cell_type": "code",
      "source": "# This Python 3 environment comes with many helpful analytics libraries installed\n# It is defined by the kaggle/python docker image: https://github.com/kaggle/docker-python\n# For example, here's several helpful packages to load in \n\nimport numpy as np # linear algebra\nimport pandas as pd # data processing, CSV file I/O (e.g. pd.read_csv)\n\n# Input data files are available in the \"../input/\" directory.\n# For example, running this (by clicking run or pressing Shift+Enter) will list the files in the input directory\n\nimport os\nprint(os.listdir(\"../input\"))\n\n# Any results you write to the current directory are saved as output.",
      "execution_count": null,
      "outputs": []
    },
    {
      "metadata": {
        "_cell_guid": "79c7e3d0-c299-4dcb-8224-4455121ee9b0",
        "_uuid": "d629ff2d2480ee46fbb7e2d37f6b5fab8052498a",
        "trusted": true,
        "collapsed": true
      },
      "cell_type": "code",
      "source": "%reload_ext autoreload\n%autoreload 2\n%matplotlib inline",
      "execution_count": null,
      "outputs": []
    },
    {
      "metadata": {
        "trusted": true,
        "_uuid": "27711c79293455eede06157fb9ce6f9a49c3d164",
        "collapsed": true
      },
      "cell_type": "code",
      "source": "from fastai.conv_learner import *",
      "execution_count": null,
      "outputs": []
    },
    {
      "metadata": {
        "trusted": true,
        "_uuid": "bac398a7fb041b068dc9459d5f79070df455e4bd",
        "collapsed": true
      },
      "cell_type": "code",
      "source": "PATH = '../input/fruits-360_dataset/'",
      "execution_count": null,
      "outputs": []
    },
    {
      "metadata": {
        "_uuid": "d03fa20d618d2f3d8219e3a49cde29bb96e0cd5e"
      },
      "cell_type": "markdown",
      "source": "This is to kept as a reference of the folder structure"
    },
    {
      "metadata": {
        "trusted": true,
        "_uuid": "37d1bddddcdfaa124ceaee4671cdf26add17d3f4",
        "collapsed": true
      },
      "cell_type": "code",
      "source": "read_path = '../input/fruits-360_dataset/*'",
      "execution_count": null,
      "outputs": []
    },
    {
      "metadata": {
        "trusted": true,
        "_uuid": "e91281317905bcaa86a7955ff0abd4d793e479e0",
        "collapsed": true
      },
      "cell_type": "code",
      "source": "ls {read_path}",
      "execution_count": null,
      "outputs": []
    },
    {
      "metadata": {
        "trusted": true,
        "_uuid": "e5a988184bc977bd9d523aac5ed51dca1f023cc9",
        "collapsed": true
      },
      "cell_type": "code",
      "source": "ls {PATH}",
      "execution_count": null,
      "outputs": []
    },
    {
      "metadata": {
        "trusted": true,
        "_uuid": "ce2a409cb7c57dc6ea23b4d425e659243e49b645",
        "collapsed": true
      },
      "cell_type": "code",
      "source": "from fastai.plots import * ",
      "execution_count": null,
      "outputs": []
    },
    {
      "metadata": {
        "trusted": true,
        "_uuid": "8d7612737f4b07514794230e5aab9bc16f94dfab",
        "collapsed": true
      },
      "cell_type": "code",
      "source": "def get_1st(path, pattern): return glob(f'{path}/*{pattern}.*')[2]",
      "execution_count": null,
      "outputs": []
    },
    {
      "metadata": {
        "trusted": true,
        "_uuid": "621eb618ba4013d4033aa94746d519cefa9abff8",
        "collapsed": true
      },
      "cell_type": "code",
      "source": "list_paths = [f\"{PATH}fruits-360/Training/Apple Braeburn/0_100.jpg\", f\"{PATH}fruits-360/Training/Apple Golden 1/116_100.jpg\"]\ntitles = [\"Apple Braeburn\", \"Apple Golden 1\" ]\nplots_from_files(list_paths,titles=titles,maintitle=\"Multi-label clasification\")",
      "execution_count": null,
      "outputs": []
    },
    {
      "metadata": {
        "_uuid": "1f84d36a232c35f0df15dcdede5da6b532915a36"
      },
      "cell_type": "markdown",
      "source": "Import the planet.py \n"
    },
    {
      "metadata": {
        "trusted": true,
        "_uuid": "44551cdff517559be311866382a1674a1c5d49b5",
        "collapsed": true
      },
      "cell_type": "code",
      "source": "# the planet.py file\n\nfrom fastai.imports import *\nfrom fastai.transforms import *\nfrom fastai.dataset import *\nfrom sklearn.metrics import fbeta_score\nimport warnings\n\ndef f2(preds, targs, start=0.17, end=0.24, step=0.01):\n    with warnings.catch_warnings():\n        warnings.simplefilter(\"ignore\")\n        return max([fbeta_score(targs, (preds>th), 2, average='samples')\n                   for th in np.arange(start,end,step)])",
      "execution_count": null,
      "outputs": []
    },
    {
      "metadata": {
        "trusted": true,
        "_uuid": "2416eb8fcac9bc25374dc74fdade7592fa719782",
        "collapsed": true
      },
      "cell_type": "code",
      "source": "metrics=[f2]\nf_model = resnet34",
      "execution_count": null,
      "outputs": []
    },
    {
      "metadata": {
        "trusted": true,
        "_uuid": "4f6df01183efae148d5551caa643dd1f2de5886e",
        "collapsed": true
      },
      "cell_type": "code",
      "source": "# import the training dataset\nimport glob \nimport cv2\n\ntraining_fruit_img = []\ntraining_label = []\nfor dir_path in glob.glob(\"../input/*/fruits-360/Training/*\"):\n    img_label = dir_path.split(\"/\")[-1]\n    for img_path in glob.glob(os.path.join(dir_path, \"*.jpg\")):\n        img = cv2.imread(img_path)\n        training_fruit_img.append(img)\n        training_label.append(img_label)\ntraining_fruit_img = np.array(training_fruit_img)\ntraining_label = np.array(training_label)\nlen(np.unique(training_label))",
      "execution_count": null,
      "outputs": []
    },
    {
      "metadata": {
        "_uuid": "241394bc92b0e01656d199d753d615ef94fb369e"
      },
      "cell_type": "markdown",
      "source": "This step is to see the different classes in our dataset"
    },
    {
      "metadata": {
        "trusted": true,
        "_uuid": "25e1ceccb2603e26fc2e6f8156e148a9d35d739f",
        "collapsed": true
      },
      "cell_type": "code",
      "source": "label_to_id_dict = {v:i for i,v in enumerate(np.unique(training_label))}\nid_to_label_dict = {v: k for k, v in label_to_id_dict.items()}",
      "execution_count": null,
      "outputs": []
    },
    {
      "metadata": {
        "trusted": true,
        "_uuid": "c4b1b961001eb0a57a956d0bc12cc50b8463f4ab",
        "collapsed": true
      },
      "cell_type": "code",
      "source": "id_to_label_dict",
      "execution_count": null,
      "outputs": []
    },
    {
      "metadata": {
        "trusted": true,
        "_uuid": "f0e6cb5d883cb0131337e6d55f9f8be8817fe4e8",
        "collapsed": true
      },
      "cell_type": "code",
      "source": "label_ids = np.array([label_to_id_dict[x] for x in training_label])",
      "execution_count": null,
      "outputs": []
    },
    {
      "metadata": {
        "trusted": true,
        "_uuid": "23d1a036cd3b6384e9054ed4f3e5b968253226d4",
        "collapsed": true
      },
      "cell_type": "code",
      "source": "label_ids.shape,training_label.shape",
      "execution_count": null,
      "outputs": []
    },
    {
      "metadata": {
        "trusted": true,
        "_uuid": "dd76a26c63278600aacbd03daab8c9a085b55103",
        "collapsed": true
      },
      "cell_type": "code",
      "source": "training_path = f'{PATH}fruits-360/'\ndef get_data(sz):\n    tfms = tfms_from_model(f_model, sz, aug_tfms=transforms_top_down, max_zoom=1.05)\n    return ImageClassifierData.from_paths(path=training_path,trn_name=\"Training\", val_name=\"Test\", tfms=tfms)",
      "execution_count": null,
      "outputs": []
    },
    {
      "metadata": {
        "trusted": true,
        "_uuid": "7c386113a84eee7d813d69bc6caa20b13470d53b",
        "collapsed": true
      },
      "cell_type": "code",
      "source": "data = get_data(256)",
      "execution_count": null,
      "outputs": []
    },
    {
      "metadata": {
        "trusted": true,
        "_uuid": "a5822ef99e4b5c656a17ca217bd09be3605a577e",
        "collapsed": true
      },
      "cell_type": "code",
      "source": "y",
      "execution_count": null,
      "outputs": []
    },
    {
      "metadata": {
        "trusted": true,
        "_uuid": "c16c6685710564c12d46b87a15b87e395fcaed30",
        "collapsed": true
      },
      "cell_type": "code",
      "source": "plt.imshow(data.val_ds.denorm(to_np(x))[54]*1.4)",
      "execution_count": null,
      "outputs": []
    },
    {
      "metadata": {
        "_uuid": "762fde6e40be9f7654f5449d44fbef5d83b9b439"
      },
      "cell_type": "markdown",
      "source": "# Find Learning Rate"
    },
    {
      "metadata": {
        "trusted": true,
        "_uuid": "0a1747d1f5df0563c8afce9346ab2f45a3d7debd",
        "collapsed": true
      },
      "cell_type": "code",
      "source": "sz=64\ndata = data.resize(int(sz*1.3), '/tmp')",
      "execution_count": null,
      "outputs": []
    },
    {
      "metadata": {
        "trusted": true,
        "collapsed": true,
        "_uuid": "62c87cb26b9d878af2af470c69312787a16406e7"
      },
      "cell_type": "code",
      "source": "arch = resnet34",
      "execution_count": null,
      "outputs": []
    },
    {
      "metadata": {
        "trusted": true,
        "_uuid": "d65ce023f1e4cd50edc4fdfb3676e651fdee52a7",
        "collapsed": true
      },
      "cell_type": "code",
      "source": "learn = ConvLearner.pretrained(arch,data, precompute=True)",
      "execution_count": null,
      "outputs": []
    },
    {
      "metadata": {
        "trusted": true,
        "_uuid": "738739725ad33129ffaecfae8b408ce35e1d2d92",
        "collapsed": true
      },
      "cell_type": "code",
      "source": "lrf=learn.lr_find()\nlearn.sched.plot()",
      "execution_count": null,
      "outputs": []
    },
    {
      "metadata": {
        "trusted": true,
        "_uuid": "26c9e392d0870687e97e5f7184ddb36b71d80bca",
        "collapsed": true
      },
      "cell_type": "code",
      "source": "\nlearn.fit(lrs=0.01,n_cycle=3)",
      "execution_count": null,
      "outputs": []
    },
    {
      "metadata": {
        "trusted": true,
        "_uuid": "221f6cdd9dca3311b4eb7b2af760f170ca0cfbca",
        "collapsed": true
      },
      "cell_type": "code",
      "source": "learn.sched.plot_loss()",
      "execution_count": null,
      "outputs": []
    },
    {
      "metadata": {
        "trusted": true,
        "collapsed": true,
        "_uuid": "ed30dfefb0cb0efc660d92941536a9344a88dc17"
      },
      "cell_type": "code",
      "source": "log_preds = learn.predict()\npreds = np.argmax(log_preds, axis=1)\n",
      "execution_count": null,
      "outputs": []
    },
    {
      "metadata": {
        "trusted": true,
        "_uuid": "516eefa5d3e3e54d539f0d5a5cf04d82f5dbfcf6",
        "collapsed": true
      },
      "cell_type": "code",
      "source": "preds",
      "execution_count": null,
      "outputs": []
    },
    {
      "metadata": {
        "trusted": true,
        "collapsed": true,
        "_uuid": "7fa2bde33d658200e94fb7fc07d049aa836f711a"
      },
      "cell_type": "code",
      "source": "probs = np.exp(log_preds[:,1])",
      "execution_count": null,
      "outputs": []
    },
    {
      "metadata": {
        "_uuid": "2a2228315a8d3b7ed668d3b179f06db225f17a8f"
      },
      "cell_type": "markdown",
      "source": "# Lets view our results"
    },
    {
      "metadata": {
        "trusted": true,
        "collapsed": true,
        "_uuid": "5e2dcf60f1b820efc689ac402aa0a11aaaf7d297"
      },
      "cell_type": "code",
      "source": "def rand_by_mask(mask): return np.random.choice(np.where(mask)[0], 4, replace=False)\ndef rand_by_correct(is_correct): return rand_by_mask((preds == data.val_y)==is_correct)",
      "execution_count": null,
      "outputs": []
    },
    {
      "metadata": {
        "trusted": true,
        "collapsed": true,
        "_uuid": "f10590da2b12fa752502dc7b7a9f0e5d49dcc6f4"
      },
      "cell_type": "code",
      "source": "\ndef plot_val_with_title(idxs, title):\n    imgs = np.stack([data.val_ds[x][0] for x in idxs])\n    title_probs = [probs[x] for x in idxs]\n    print(title)\n    return plots(data.val_ds.denorm(imgs), rows=1, titles=title_probs)\n\ndef plots(ims, figsize=(12,6), rows=1, titles=None):\n    f = plt.figure(figsize=figsize)\n    for i in range(len(ims)):\n        sp = f.add_subplot(rows, len(ims)//rows, i+1)\n        sp.axis('Off')\n        if titles is not None: sp.set_title(titles[i], fontsize=16)\n        plt.imshow(ims[i])\n        \ndef load_img_id(ds, idx): return np.array(PIL.Image.open(training_path+ds.fnames[idx]))\n\ndef plot_val_with_title(idxs, title):\n    imgs = [load_img_id(data.val_ds,x) for x in idxs]\n    title_probs = [probs[x] for x in idxs]\n    print(title)\n    return plots(imgs, rows=1, titles=title_probs, figsize=(16,8))",
      "execution_count": null,
      "outputs": []
    },
    {
      "metadata": {
        "trusted": true,
        "_uuid": "8d30ff9d7f3629566a5863a96a0a546c9befd3ba",
        "collapsed": true
      },
      "cell_type": "code",
      "source": "plot_val_with_title(rand_by_correct(True), \"Correct Predictions\")",
      "execution_count": null,
      "outputs": []
    },
    {
      "metadata": {
        "trusted": true,
        "_uuid": "c44ffcfe665291ee76dcbe37959cb8dcbf8ab467",
        "collapsed": true
      },
      "cell_type": "code",
      "source": "plot_val_with_title(rand_by_correct(False), \"Wrong Predictions\")",
      "execution_count": null,
      "outputs": []
    },
    {
      "metadata": {
        "trusted": true,
        "collapsed": true,
        "_uuid": "b75151638905b109df3d499eba7629474004aebd"
      },
      "cell_type": "code",
      "source": "\ndef  most_by_mask(mask, mult):\n    idxs = np.where(mask)[0]\n    return idxs[np.argsort(mult * probs[idxs])[:4]]\n\ndef most_by_correct(y, is_correct): \n    mult = -1 if (y==1)==is_correct else 1\n    return most_by_mask((preds == data.val_y)==is_correct & (data.val_y == y), mult)",
      "execution_count": null,
      "outputs": []
    },
    {
      "metadata": {
        "trusted": true,
        "_uuid": "c4693e19d99703532e834431284633cf3f9bb827",
        "collapsed": true
      },
      "cell_type": "code",
      "source": "i = 0\nplot_val_with_title(most_by_correct(i,True), \"Most Correct\" + data.classes[i])",
      "execution_count": null,
      "outputs": []
    },
    {
      "metadata": {
        "trusted": true,
        "_uuid": "97f0d9ecf5dcd9c266eaea2bc15393fd495e1c5f",
        "collapsed": true
      },
      "cell_type": "code",
      "source": "i = 10\nplot_val_with_title(most_by_correct(i,True), \"Most Correct\" + data.classes[i])",
      "execution_count": null,
      "outputs": []
    },
    {
      "metadata": {
        "trusted": true,
        "_uuid": "334a230649af91f5ae64c826d21bf9bb0955fbf4",
        "collapsed": true
      },
      "cell_type": "code",
      "source": "i = 15\nplot_val_with_title(most_by_correct(i,True), \"Most Correct\" + data.classes[i])",
      "execution_count": null,
      "outputs": []
    },
    {
      "metadata": {
        "trusted": true,
        "_uuid": "2df8b3400882f0052e2c03355dbd1edcb7884251",
        "collapsed": true
      },
      "cell_type": "code",
      "source": "i = 68\nplot_val_with_title(most_by_correct(i, True), \"Most Correct \" + data.classes[i])",
      "execution_count": null,
      "outputs": []
    }
  ],
  "metadata": {
    "kernelspec": {
      "display_name": "Python 3",
      "language": "python",
      "name": "python3"
    },
    "language_info": {
      "name": "python",
      "version": "3.6.4",
      "mimetype": "text/x-python",
      "codemirror_mode": {
        "name": "ipython",
        "version": 3
      },
      "pygments_lexer": "ipython3",
      "nbconvert_exporter": "python",
      "file_extension": ".py"
    }
  },
  "nbformat": 4,
  "nbformat_minor": 1
}