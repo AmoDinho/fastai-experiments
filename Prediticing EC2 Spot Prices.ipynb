{
  "cells": [
    {
      "metadata": {
        "trusted": true,
        "_uuid": "7b073cc577c4d8466b3cd192215c96714776b87a",
        "collapsed": true
      },
      "cell_type": "markdown",
      "source": "# Prediticing spot prices for AWS EC2 Instances\n\n![Cointainers](https://images.unsplash.com/photo-1508404971049-e37350e9f05c?ixlib=rb-0.3.5&ixid=eyJhcHBfaWQiOjEyMDd9&s=d7711d4685e561c1326b89841ca0db2b&auto=format&fit=crop&w=667&q=80)"
    },
    {
      "metadata": {
        "_uuid": "7bad6db2cda184ce3cd4365e3c29e9b940c7cf99"
      },
      "cell_type": "markdown",
      "source": "# Table of Contents\n\n* Introduction\n* Background\n* Import libraries\n* EDA (Exploratory Data Analysis)\n* Cleaning\n* Implement Model\n* Conculsion on results"
    },
    {
      "metadata": {
        "_uuid": "b1784ff7fe303a9161ddd9e820a331c1de9fd809"
      },
      "cell_type": "markdown",
      "source": "# Introduction\n\nThe purpose of this experiment is to train a deep learning model to predict an outcome on time series data. I will be using the Fast.ai library for the model.  More specifically, we will be predicting the Spot prices for specifc regions."
    },
    {
      "metadata": {
        "_uuid": "15face38841009cf72374099634e1c0af702c32f"
      },
      "cell_type": "markdown",
      "source": "# Background\n\nAmazon Web Services [(AWS)](https://aws.amazon.com) provides virtual computing environments via their EC2 service. You can launch instances with your favourite operating system, select pre-configured instance images or create your own. Why this is revelant to data sciensits is because generally to run deep learning models you need a machine with a good GPU. EC2 can be configured with a P2/P3 instance and can be configured with up to 8 or 16 GPUs respectively! \n\nHowever, you can request Spot Instance Pricing. Which basically charges you for the spot price that is in effect for the duration of your instance running time. They are adjusted based on long-term trends in supply and demand for Spot instance capacity.  Spot instances can be discounted at up to 90% off compared to On-Demand pricing. \n\n\nOur goal will be to predict Spot pricing for the  different global regions on offer:\n\n* US East\n* US West\n* South America (East)\n* EU (European Union) West \n* EU Central\n* Canda \n* Asia Pacific North East 1\n* Asia Pacific North East 2\n* Asia Pacific South\n* Asia Pacific Southeast 1 \n* Asia Pacific Southeast 2\n\n\n\n"
    },
    {
      "metadata": {
        "_uuid": "14ca6867f2d46f9e68eb1ec285cb0005e60b3dd2"
      },
      "cell_type": "markdown",
      "source": "# Import Libraries"
    },
    {
      "metadata": {
        "_uuid": "8f2839f25d086af736a60e9eeb907d3b93b6e0e5",
        "_cell_guid": "b1076dfc-b9ad-4769-8c92-a6c4dae69d19",
        "trusted": true
      },
      "cell_type": "code",
      "source": "import seaborn as sns\n\n%reload_ext autoreload\n%autoreload 2\n%matplotlib inline\n\nfrom IPython.display import HTML, display\nfrom fastai.structured import *\nfrom fastai.column_data import *\nnp.set_printoptions(threshold=50, edgeitems=20)\n\n\nimport numpy as np # linear algebra\nimport pandas as pd # data processing, CSV file I/O (e.g. pd.read_csv)\n\n\nimport os\nprint(os.listdir(\"../input\"))\n\n",
      "execution_count": null,
      "outputs": []
    },
    {
      "metadata": {
        "_uuid": "201278f8f2c44812147c22a9a915fdc22c26e595"
      },
      "cell_type": "markdown",
      "source": "Lets import all the tables"
    },
    {
      "metadata": {
        "trusted": true,
        "collapsed": true,
        "_uuid": "15696f1e4a1081f3a5a783d4a65759d6f0a4e4e9"
      },
      "cell_type": "code",
      "source": "PATH = \"../input/\"\nPATH_WRITE = \"/kaggle/working/\"",
      "execution_count": null,
      "outputs": []
    },
    {
      "metadata": {
        "trusted": true,
        "_uuid": "1333ffc434045d439ccdf75599713b01524fb9d4",
        "collapsed": true
      },
      "cell_type": "code",
      "source": "ls {PATH}",
      "execution_count": null,
      "outputs": []
    },
    {
      "metadata": {
        "trusted": true,
        "collapsed": true,
        "_uuid": "d2073317a9e4d38d920b48a4b04aed4f47d9af98"
      },
      "cell_type": "code",
      "source": "table_names = ['ap-southeast-2', 'ap-northeast-2', 'ca-central-1', 'us-east-1', \n               'ap-northeast-1', 'ap-south-1', 'sa-east-1', 'eu-west-1', \n               'ap-southeast-1', 'us-west-1', 'eu-central-1']",
      "execution_count": null,
      "outputs": []
    },
    {
      "metadata": {
        "trusted": true,
        "_uuid": "6aa4b36a89e87d6b4e1c4535166ea8befb31a52a",
        "collapsed": true
      },
      "cell_type": "code",
      "source": "tables = [pd.read_csv(f'{PATH}{fname}.csv', low_memory=False) for fname in table_names]",
      "execution_count": null,
      "outputs": []
    },
    {
      "metadata": {
        "_uuid": "5ad73f558fa28a266760e9d72fbe60b47afe89d9"
      },
      "cell_type": "markdown",
      "source": ""
    },
    {
      "metadata": {
        "_uuid": "be2d115a8d3c888150ad7a65e0439126caf9aaf0"
      },
      "cell_type": "markdown",
      "source": ""
    },
    {
      "metadata": {
        "_cell_guid": "79c7e3d0-c299-4dcb-8224-4455121ee9b0",
        "collapsed": true,
        "_uuid": "d629ff2d2480ee46fbb7e2d37f6b5fab8052498a",
        "trusted": false
      },
      "cell_type": "markdown",
      "source": "# EDA "
    },
    {
      "metadata": {
        "_uuid": "8182ec4199ee1d9a2cffb9c77a018b7b5b9b0709"
      },
      "cell_type": "markdown",
      "source": "Lets call head and take a look at what our data looks like."
    },
    {
      "metadata": {
        "trusted": true,
        "_uuid": "99cfee5cb7ae0f1821e1ebd2b484c3c280cc1d05",
        "collapsed": true
      },
      "cell_type": "code",
      "source": "for t in tables: display(t.head())",
      "execution_count": null,
      "outputs": []
    },
    {
      "metadata": {
        "_uuid": "f1994a0ed99160540a45175bbd2f894b7794f15d"
      },
      "cell_type": "markdown",
      "source": "Lets call summary"
    },
    {
      "metadata": {
        "trusted": true,
        "_uuid": "6f11d0dce90e036093f0b43717d877e84a83a9af",
        "collapsed": true
      },
      "cell_type": "code",
      "source": "for t in tables: display(DataFrameSummary(t).summary())",
      "execution_count": null,
      "outputs": []
    },
    {
      "metadata": {
        "_uuid": "6e0269dd1faadb7b9c8845c68050ef6d805b7a0d"
      },
      "cell_type": "markdown",
      "source": "I think we need to change some of the columns names"
    },
    {
      "metadata": {
        "trusted": true,
        "collapsed": true,
        "_uuid": "3d04b074c36921d29a32ed584e5150d7fcf9f11d"
      },
      "cell_type": "code",
      "source": "new_labels = ['Date', 'Instance Type', 'OS', 'Region', 'Price ($)']",
      "execution_count": null,
      "outputs": []
    },
    {
      "metadata": {
        "trusted": true,
        "_uuid": "5c4c71fe145020dfabd7664fdfad9957d9580467",
        "collapsed": true
      },
      "cell_type": "code",
      "source": "for t in tables:\n  t.columns = new_labels",
      "execution_count": null,
      "outputs": []
    },
    {
      "metadata": {
        "trusted": true,
        "_uuid": "4edb090bfcb6f7da8731cb19b82b8b969a8f2a65",
        "collapsed": true
      },
      "cell_type": "code",
      "source": "for t in tables: display(t.head())",
      "execution_count": null,
      "outputs": []
    },
    {
      "metadata": {
        "trusted": true,
        "_uuid": "0e6c6f2f9560a1ae5174e4a109e553865d7c2ce0",
        "collapsed": true
      },
      "cell_type": "code",
      "source": "for t in tables:\n    plt.figure(figsize=(12,8))\n    sns.countplot(t['Instance Type'], order=t['Instance Type'].value_counts().iloc[:20].index)\n    plt.xticks(rotation=90);\n",
      "execution_count": null,
      "outputs": []
    },
    {
      "metadata": {
        "_uuid": "0927bba0acb6e575c8314a81e1ddf1b37d39593d"
      },
      "cell_type": "markdown",
      "source": "List of questions to ask:\n\n* Average price for certain instances in each region\n* Frequent instance type\n* Seasonlity of instances\n* Determine if there are any stationary variables\n* Which instance type is frequently link with what OS?\n* Need to plot instances in time-intervalse eg: between 21:00 - 22:00\n\nAlso need to figure out how to give each region a table name for the graphs."
    },
    {
      "metadata": {
        "_uuid": "cfb5327d9a5eabb4ab81c465e907612a29e60665"
      },
      "cell_type": "markdown",
      "source": "Lets look at the tables seperately:"
    },
    {
      "metadata": {
        "_uuid": "c97c7783e5f10166d31470fd77d4f15412d7f81c"
      },
      "cell_type": "markdown",
      "source": "# US East "
    },
    {
      "metadata": {
        "trusted": true,
        "_uuid": "8f0080bd992cc111fa212f68725e7d4143d42bd7",
        "collapsed": true
      },
      "cell_type": "code",
      "source": "us_east = pd.read_csv(\"../input/us-east-1.csv\")\nPATH_USEAST = \"../input/us-east-1.csv\"",
      "execution_count": null,
      "outputs": []
    },
    {
      "metadata": {
        "trusted": true,
        "_uuid": "771b9559727208d9cc4a92908ed2299783502221",
        "collapsed": true
      },
      "cell_type": "code",
      "source": "us_east.columns = new_labels\nus_east.head()",
      "execution_count": null,
      "outputs": []
    },
    {
      "metadata": {
        "trusted": true,
        "_uuid": "3a5295d73b5cd33f781389af425279e368615dff",
        "collapsed": true
      },
      "cell_type": "code",
      "source": "us_east['Date'].head()",
      "execution_count": null,
      "outputs": []
    },
    {
      "metadata": {
        "_uuid": "67249332ca94a3ddef869438a140851faf220649"
      },
      "cell_type": "markdown",
      "source": "We need to parse the dates otherwise the dates will not apear on axis.  The format string needs to match the format in the column EXACTLY! For more info look [here](http://strftime.org/) and [here](https://codeburst.io/dealing-with-datetimes-like-a-pro-in-pandas-b80d3d808a7f)"
    },
    {
      "metadata": {
        "trusted": true,
        "_uuid": "8050f3757339a1f7d4ac6a5cf53742a822e7eb1f",
        "collapsed": true
      },
      "cell_type": "code",
      "source": "us_east['Date'] = pd.to_datetime(us_east['Date'], format='%Y-%m-%d %H:%M:%S+00:00', utc=False)",
      "execution_count": null,
      "outputs": []
    },
    {
      "metadata": {
        "trusted": true,
        "_uuid": "3cadbe39219948fb1d426c64ffdeeb220aee53e8",
        "collapsed": true
      },
      "cell_type": "code",
      "source": "us_east.info()",
      "execution_count": null,
      "outputs": []
    },
    {
      "metadata": {
        "trusted": true,
        "_uuid": "b669c11ac7ce0720272f1c58e726c601dbe770d6",
        "collapsed": true
      },
      "cell_type": "code",
      "source": "us_east['Date'].head(500)",
      "execution_count": null,
      "outputs": []
    },
    {
      "metadata": {
        "_uuid": "890cccd166a16535c780c8fe9bfaf3f2c5970569"
      },
      "cell_type": "markdown",
      "source": "## Instance: d2.xlarge"
    },
    {
      "metadata": {
        "trusted": true,
        "_uuid": "702bd81a9aeefb67b322ecde7cb3c762c9cfb70a",
        "collapsed": true
      },
      "cell_type": "code",
      "source": "d2_= us_east[us_east['Instance Type'] == \"d2.xlarge\"].set_index('Date')",
      "execution_count": null,
      "outputs": []
    },
    {
      "metadata": {
        "trusted": true,
        "collapsed": true,
        "_uuid": "e51c7233771be424504993b79eca75de49281a5d"
      },
      "cell_type": "code",
      "source": "d2_Unix = us_east[us_east['OS'] == \"Linux/UNIX\"].set_index('Date')",
      "execution_count": null,
      "outputs": []
    },
    {
      "metadata": {
        "trusted": true,
        "collapsed": true,
        "_uuid": "29d7ce1d5fa3568c6e5903cd1718b6a57901ec83"
      },
      "cell_type": "code",
      "source": "d2_Suse = us_east[us_east['OS'] == \"SUSE Linux\"].set_index('Date')",
      "execution_count": null,
      "outputs": []
    },
    {
      "metadata": {
        "trusted": true,
        "collapsed": true,
        "_uuid": "f804f552f9bad2a1f69d2812dd8292eef527a5d0"
      },
      "cell_type": "code",
      "source": "d2_Win = us_east[us_east['OS'] == \"Windows\"].set_index('Date')",
      "execution_count": null,
      "outputs": []
    },
    {
      "metadata": {
        "trusted": true,
        "_uuid": "31e4448882cec143bb652f0b990e4ad1437d67a8",
        "collapsed": true
      },
      "cell_type": "code",
      "source": "d2.head()",
      "execution_count": null,
      "outputs": []
    },
    {
      "metadata": {
        "trusted": true,
        "_uuid": "fe24da3a2854fdd6a29fc25849ce5385d70e9b56",
        "collapsed": true
      },
      "cell_type": "code",
      "source": "d2.head()",
      "execution_count": null,
      "outputs": []
    },
    {
      "metadata": {
        "trusted": true,
        "_uuid": "d95860367c735bcfdb77d03961a989892ea59eb8",
        "collapsed": true
      },
      "cell_type": "code",
      "source": "d2.head(100).plot(title=\"d2.xlarge Instances\", figsize=(15,10))",
      "execution_count": null,
      "outputs": []
    },
    {
      "metadata": {
        "trusted": true,
        "_uuid": "056b6b2d3ea1ed5e3555db825cd5b32f0cc262a2",
        "collapsed": true
      },
      "cell_type": "code",
      "source": "d2_Suse.head(100).plot(title=\"d2.xlarge Instances OS:SUSE Linux\", figsize=(15,10))",
      "execution_count": null,
      "outputs": []
    },
    {
      "metadata": {
        "trusted": true,
        "_uuid": "e15d4358545a3b1e25dd06e08844f87078f511e0",
        "collapsed": true
      },
      "cell_type": "code",
      "source": "d2_Unix.head(100).plot(title=\"d2.xlarge Instances OS:Linux/UNIX\", figsize=(15,10))",
      "execution_count": null,
      "outputs": []
    },
    {
      "metadata": {
        "trusted": true,
        "_uuid": "1679d1a1ef9ae4ba38c61f26a564909c329029fd",
        "collapsed": true
      },
      "cell_type": "code",
      "source": "d2_Win.head(100).plot(title=\"d2.xlarge Instances OS:Windows\", figsize=(15,10))",
      "execution_count": null,
      "outputs": []
    },
    {
      "metadata": {
        "_uuid": "9e94558673e39d3f9dae356a4eff7884780b6b39"
      },
      "cell_type": "markdown",
      "source": "Looks like windows Instances can get quite pricey with highs of around roughly `$` 7 dollars - `$` 29!🤷‍♀️"
    },
    {
      "metadata": {
        "trusted": true,
        "collapsed": true,
        "_uuid": "c14e29285bc45faa5dee702b9aeb63e45ec0c528"
      },
      "cell_type": "code",
      "source": "",
      "execution_count": null,
      "outputs": []
    },
    {
      "metadata": {
        "_uuid": "b9b68b8e92d857d477f2c2f1b3232dd010dfa608"
      },
      "cell_type": "markdown",
      "source": "# Cleaning"
    },
    {
      "metadata": {
        "_uuid": "8597eae5ce3f38d3639ac8d1f7f179f93107056c"
      },
      "cell_type": "markdown",
      "source": "Lets go over the steps for checking for signs that we need to clean our dataset. "
    },
    {
      "metadata": {
        "trusted": true,
        "_uuid": "7ed00f89ebaa4aca707565f3026da6845b723224",
        "collapsed": true
      },
      "cell_type": "code",
      "source": "us_east['Instance Type'].value_counts(dropna=False)",
      "execution_count": null,
      "outputs": []
    },
    {
      "metadata": {
        "trusted": true,
        "_uuid": "dbf35b53819101f70fd2e4a7314bc6b74d769451",
        "collapsed": true
      },
      "cell_type": "code",
      "source": "us_east['OS'].value_counts(dropna=False)",
      "execution_count": null,
      "outputs": []
    },
    {
      "metadata": {
        "trusted": true,
        "_uuid": "498cfb62d44d7ec0a8b8f3990a21a1d00771e58b",
        "collapsed": true
      },
      "cell_type": "code",
      "source": "len(us_east.isnull())",
      "execution_count": null,
      "outputs": []
    },
    {
      "metadata": {
        "_uuid": "d32ba041302daf33b57c5cc8dcde6de4211c2c85"
      },
      "cell_type": "markdown",
      "source": "Out of 3 721 999 entries none have null values"
    },
    {
      "metadata": {
        "_uuid": "26cbbc7c79e74b5138f74485f49010703ff1aeff"
      },
      "cell_type": "markdown",
      "source": "Lets train on another dataset"
    },
    {
      "metadata": {
        "trusted": true,
        "collapsed": true,
        "_uuid": "dba41d247ed841e90f79fbf64988dd971d235576"
      },
      "cell_type": "code",
      "source": "eu_west = pd.read_csv(\"../input/eu-west-1.csv\")\nPATH_euwest = \"../input/\"",
      "execution_count": null,
      "outputs": []
    },
    {
      "metadata": {
        "trusted": true,
        "_uuid": "07068b76e9f552c529c12df4f2d9e9a897208faa",
        "collapsed": true
      },
      "cell_type": "code",
      "source": "eu_west.columns = new_labels",
      "execution_count": null,
      "outputs": []
    },
    {
      "metadata": {
        "trusted": true,
        "_uuid": "d88b3507756b7897788f2b23d68e6da4172b17b0",
        "collapsed": true
      },
      "cell_type": "code",
      "source": "eu_west.info()",
      "execution_count": null,
      "outputs": []
    },
    {
      "metadata": {
        "trusted": true,
        "_uuid": "8ce6ee52d87688e416ecb20d3e5f920c4563955e",
        "collapsed": true
      },
      "cell_type": "code",
      "source": "eu_west['Instance Type'].value_counts(dropna=False)",
      "execution_count": null,
      "outputs": []
    },
    {
      "metadata": {
        "trusted": true,
        "_uuid": "208c5223a6888af8b55bf46c424cfbdab8973d38",
        "collapsed": true
      },
      "cell_type": "code",
      "source": "len(eu_west.isnull())",
      "execution_count": null,
      "outputs": []
    },
    {
      "metadata": {
        "_uuid": "3f4f9f80d4da3fc49243b1b64664923adda826b0"
      },
      "cell_type": "markdown",
      "source": "# Implement Model"
    },
    {
      "metadata": {
        "trusted": true,
        "collapsed": true,
        "_uuid": "2752a3185ed1f147c4b74640ddd890933c57e6c7"
      },
      "cell_type": "markdown",
      "source": "Things to do:\n\n*  Len the Instance type [done]\n* Add date part [done] \n\n* Create cat & continous vars [done] - do not have any other kind continous var!!\n* Process datasets [done]\n* Split Dataset - via datetime [done]\n* Create RMSE metric\n* Create model data object\n* calculate embeddings\n* Train model "
    },
    {
      "metadata": {
        "trusted": true,
        "_uuid": "562f468726ea67e65218898d00f1e6ca791ed282",
        "collapsed": true
      },
      "cell_type": "code",
      "source": "add_datepart(eu_west, 'Date', drop=False)",
      "execution_count": null,
      "outputs": []
    },
    {
      "metadata": {
        "trusted": true,
        "_uuid": "493504dfffc43d7c81e477014083c3b52068322b"
      },
      "cell_type": "code",
      "source": " eu_west.reset_index(inplace=True)\neu_west.to_feather(f'{PATH_WRITE}eu_west')\neu_west.shape",
      "execution_count": null,
      "outputs": []
    },
    {
      "metadata": {
        "trusted": true,
        "_uuid": "f600ad3efe637a2fb80d3b4bed29f137dbb949a1",
        "collapsed": true
      },
      "cell_type": "code",
      "source": "eu_west=pd.read_feather(f'{PATH_WRITE}eu_west')",
      "execution_count": null,
      "outputs": []
    },
    {
      "metadata": {
        "trusted": true,
        "_uuid": "a08768c6633df34ed24bc9f102331821924929ed"
      },
      "cell_type": "code",
      "source": "eu_west.columns",
      "execution_count": null,
      "outputs": []
    },
    {
      "metadata": {
        "trusted": true,
        "collapsed": true,
        "_uuid": "8a1a3381d944815b63b87d65af47c4eef29a64b9"
      },
      "cell_type": "code",
      "source": "joined = eu_west\njoined_test = eu_west",
      "execution_count": null,
      "outputs": []
    },
    {
      "metadata": {
        "trusted": true,
        "collapsed": true,
        "_uuid": "295750f97cafbeec20373223840d2bd3f4a5357b"
      },
      "cell_type": "code",
      "source": "joined.to_feather(f'{PATH_WRITE}joined')\njoined_test.to_feather(f'{PATH_WRITE}joined_test')",
      "execution_count": null,
      "outputs": []
    },
    {
      "metadata": {
        "trusted": true,
        "collapsed": true,
        "_uuid": "acefae1dc369cbd1929d0840ddc6f69c3b9b7fd8"
      },
      "cell_type": "code",
      "source": "joined = pd.read_feather(f'{PATH_WRITE}joined')\njoined_test = pd.read_feather(f'{PATH_WRITE}joined_test')",
      "execution_count": null,
      "outputs": []
    },
    {
      "metadata": {
        "trusted": true,
        "_uuid": "8d38ae66a7c1e66e55b24aac927de6c2876367d1",
        "collapsed": true
      },
      "cell_type": "code",
      "source": "joined.head()",
      "execution_count": null,
      "outputs": []
    },
    {
      "metadata": {
        "trusted": true,
        "_uuid": "bb4a47301e8500c903ce4d24afdcb3fba3016c47"
      },
      "cell_type": "code",
      "source": "cat_vars = [\n    \n    'Instance Type', \n    'OS', \n    'Region',\n     'Year' ,              \n 'Month' ,             \n 'Week'   ,            \n      'Day',           \n  'Dayofweek',         \n  'Dayofyear'         \n]\n\ncontin_vars = ['Elapsed']\n\nn = len(joined); n",
      "execution_count": null,
      "outputs": []
    },
    {
      "metadata": {
        "trusted": true,
        "_uuid": "469771cb58be289167cc9677433bffa0ac7f34c3",
        "collapsed": true
      },
      "cell_type": "code",
      "source": "dep = 'Price ($)'\njoined = joined[cat_vars+contin_vars+[dep,'Date']].copy()",
      "execution_count": null,
      "outputs": []
    },
    {
      "metadata": {
        "trusted": true,
        "_uuid": "f0a1728b4e65795cb4b3cbc7df25a32b88b62194"
      },
      "cell_type": "code",
      "source": "joined_test[dep] = 0\njoined_test = joined_test[cat_vars+contin_vars+[dep,'Date',]].copy()",
      "execution_count": null,
      "outputs": []
    },
    {
      "metadata": {
        "trusted": true,
        "_uuid": "16d7b8502a81be38017484591c2c6cf3d1930290",
        "collapsed": true
      },
      "cell_type": "code",
      "source": "for cat in cat_vars: joined[cat] = joined[cat].astype('category').cat.as_ordered()\n\neu_west['Price ($)'] = eu_west['Price ($)'].astype('float32')",
      "execution_count": null,
      "outputs": []
    },
    {
      "metadata": {
        "trusted": true,
        "collapsed": true,
        "_uuid": "815f7b25e38ad2378bb32cf56d4885741611c5ce"
      },
      "cell_type": "code",
      "source": "for contin in contin_vars: \n    joined[contin] = joined[contin].astype('float32')\n    joined_test[contin] = joined_test[contin].astype('float32')",
      "execution_count": null,
      "outputs": []
    },
    {
      "metadata": {
        "trusted": true,
        "_uuid": "35e9e09bb6ecde69698ac21485e8bce8dd4ac451",
        "collapsed": true
      },
      "cell_type": "code",
      "source": "",
      "execution_count": null,
      "outputs": []
    },
    {
      "metadata": {
        "trusted": true,
        "_uuid": "f73e956e68eff54f02a1e35bc2ae5a4d199582a4"
      },
      "cell_type": "code",
      "source": "\nidxs = get_cv_idxs(n, val_pct=150000/n)\njoined_sample = joined.iloc[idxs].set_index(\"Date\")\nsamp_size = len(joined_sample); samp_size",
      "execution_count": null,
      "outputs": []
    },
    {
      "metadata": {
        "trusted": true,
        "_uuid": "c569c0680c96fe69c344a93705605e90b6158799"
      },
      "cell_type": "code",
      "source": "samp_size = n\n",
      "execution_count": null,
      "outputs": []
    },
    {
      "metadata": {
        "trusted": true,
        "_uuid": "bd49c1f9c1604fc90cc1645e57e084506e621a78"
      },
      "cell_type": "code",
      "source": "joined_sample.head()",
      "execution_count": null,
      "outputs": []
    },
    {
      "metadata": {
        "trusted": true,
        "_uuid": "ad1b07bad0f5daf6e88ca8be2b1ec7ad9d0b923d"
      },
      "cell_type": "code",
      "source": "df_train, y, nas, mapper = proc_df(joined_sample,'Price ($)', do_scale=True)\nyl = np.log(y)",
      "execution_count": null,
      "outputs": []
    },
    {
      "metadata": {
        "trusted": true,
        "_uuid": "525f0158369d7decd8eefe1a7d06b59a52530956"
      },
      "cell_type": "code",
      "source": "joined_test = joined_test.set_index(\"Date\")",
      "execution_count": null,
      "outputs": []
    },
    {
      "metadata": {
        "trusted": true,
        "_uuid": "177a699a1e1c35184a72e7a2bbb5ac54c365c278"
      },
      "cell_type": "code",
      "source": "df_test, _, nas, mapper = proc_df(joined_test,'Price ($)', do_scale=True,mapper=mapper, na_dict=nas )\n",
      "execution_count": null,
      "outputs": []
    },
    {
      "metadata": {
        "trusted": true,
        "_uuid": "750f4759b0c2df8992016d75fb028637cf540c95"
      },
      "cell_type": "code",
      "source": "%debug",
      "execution_count": null,
      "outputs": []
    },
    {
      "metadata": {
        "trusted": true,
        "_uuid": "552594f719cb631cb50278d6ba792e5d5e87a49d",
        "collapsed": true
      },
      "cell_type": "code",
      "source": "df_train.info()",
      "execution_count": null,
      "outputs": []
    },
    {
      "metadata": {
        "trusted": true,
        "_uuid": "b514e2e36c702b09bf730de2340123c296b37f9e",
        "collapsed": true
      },
      "cell_type": "code",
      "source": "",
      "execution_count": null,
      "outputs": []
    },
    {
      "metadata": {
        "trusted": true,
        "collapsed": true,
        "_uuid": "5e48c68defd113f99015422f789bb3d97ce1f2ef"
      },
      "cell_type": "code",
      "source": "",
      "execution_count": null,
      "outputs": []
    },
    {
      "metadata": {
        "trusted": true,
        "collapsed": true,
        "_uuid": "4e0302562587c70d38a412eb2a923361f5ecdfe2"
      },
      "cell_type": "code",
      "source": "train_val_split = 0.80\ntrain_size = int(2383999  * train_val_split);train_size\nval_idx = list(range(train_size, len(df_train)))",
      "execution_count": null,
      "outputs": []
    },
    {
      "metadata": {
        "trusted": true,
        "_uuid": "e4e6c15c973aebd60da7eebf957893b6878a7b5b",
        "collapsed": true
      },
      "cell_type": "code",
      "source": "val_idx = np.flatnonzero(\n         (df_train.index<=datetime.datetime(2017,4,12)) & (df_train.index>=datetime.datetime(2017,4,12)))",
      "execution_count": null,
      "outputs": []
    },
    {
      "metadata": {
        "trusted": true,
        "collapsed": true,
        "_uuid": "11d28330c430fa3cb4e5883741bee811306e3ea3"
      },
      "cell_type": "code",
      "source": "val_idx=[0]",
      "execution_count": null,
      "outputs": []
    },
    {
      "metadata": {
        "trusted": true,
        "_uuid": "1d6d86b449864ced33399722e294ebdd4154de7e",
        "collapsed": true
      },
      "cell_type": "code",
      "source": "len(val_idx)",
      "execution_count": null,
      "outputs": []
    },
    {
      "metadata": {
        "_uuid": "e904d533e6602f21a76e2df8b448d6b983e071f3"
      },
      "cell_type": "markdown",
      "source": "We can put our Model. "
    },
    {
      "metadata": {
        "trusted": true,
        "collapsed": true,
        "_uuid": "3c688932429fcc053032c0cee82dac3f9b791382"
      },
      "cell_type": "code",
      "source": "def inv_y(a): return np.exp(a)\n\ndef exp_rmspe(y_pred, targ):\n    targ = inv_y(targ)\n    pct_var = (targ - inv_y(y_pred))/targ\n    return math.sqrt((pct_var**2).mean())\n\nmax_log_y = np.max(yl)\ny_range = (0, max_log_y*1.2)",
      "execution_count": null,
      "outputs": []
    },
    {
      "metadata": {
        "trusted": true,
        "_uuid": "d81d6e0c364ca98d50524a4198da3aa26eb195c5",
        "collapsed": true
      },
      "cell_type": "code",
      "source": "md = ColumnarModelData.from_data_frame(PATH_euwest, val_idx, df_train, yl.astype(np.float32), \n                                       cat_flds=cat_vars, bs=128, test_df=df_test)",
      "execution_count": null,
      "outputs": []
    },
    {
      "metadata": {
        "trusted": true,
        "_uuid": "f9ea1ccef026627f1f4e03319dbfc8b3a6b011ac",
        "collapsed": true
      },
      "cell_type": "code",
      "source": "cat_sz = [(c, len(df_train[c].cat.categories)+1) for c in cat_vars]\n",
      "execution_count": null,
      "outputs": []
    },
    {
      "metadata": {
        "trusted": true,
        "_uuid": "e6590bbd697a09851a263e2e5b241bf0e3c03679",
        "collapsed": true
      },
      "cell_type": "code",
      "source": "",
      "execution_count": null,
      "outputs": []
    },
    {
      "metadata": {
        "_uuid": "7730bf002329986d5ac5575ac0e118114c45789d"
      },
      "cell_type": "markdown",
      "source": "# Conclusion on Results"
    },
    {
      "metadata": {
        "_uuid": "f85254622ca7a4aaac0bf5ad18771d82231a9c85"
      },
      "cell_type": "markdown",
      "source": ""
    }
  ],
  "metadata": {
    "kernelspec": {
      "display_name": "Python 3",
      "language": "python",
      "name": "python3"
    },
    "language_info": {
      "name": "python",
      "version": "3.6.4",
      "mimetype": "text/x-python",
      "codemirror_mode": {
        "name": "ipython",
        "version": 3
      },
      "pygments_lexer": "ipython3",
      "nbconvert_exporter": "python",
      "file_extension": ".py"
    }
  },
  "nbformat": 4,
  "nbformat_minor": 1
}